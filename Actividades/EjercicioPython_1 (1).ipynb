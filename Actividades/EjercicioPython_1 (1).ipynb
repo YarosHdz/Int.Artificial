{
  "nbformat": 4,
  "nbformat_minor": 0,
  "metadata": {
    "colab": {
      "provenance": []
    },
    "kernelspec": {
      "name": "python3",
      "display_name": "Python 3"
    },
    "language_info": {
      "name": "python"
    }
  },
  "cells": [
    {
      "cell_type": "code",
      "execution_count": 13,
      "metadata": {
        "id": "pfjPel5AmmUv",
        "colab": {
          "base_uri": "https://localhost:8080/"
        },
        "outputId": "3a19700b-3ed8-4c0c-f06f-4efa1435c321"
      },
      "outputs": [
        {
          "output_type": "stream",
          "name": "stdout",
          "text": [
            "¿Cuál es tu nombre?: Maximiliano \n",
            "Hola, Maximiliano \n"
          ]
        }
      ],
      "source": [
        "# Actividad 2. Ejercicios con Python    \n",
        "# Nombre: Yaros Miroslava Escobedo Hernández  \n",
        "#Matricula: 1955398 Hora y dia clase: N1 L,M,V\n",
        "\n",
        "#Ejercicio 1.Desarrolla un algoritmo que le pida al usuario por su nombre y que lo salude con su nombre, excepto si se llama “Ana”, “Juan”, y “Pedro”.\n",
        "\n",
        "message = input(\"¿Cuál es tu nombre?: \")\n",
        "saludo= (\"Hola,\")\n",
        "if message == \"Ana\" or message == \"Juan\" or message ==\"Pedro\":\n",
        "  print(\"Nombre incorrecto\")\n",
        "else:  \n",
        "  print(saludo,message)"
      ]
    },
    {
      "cell_type": "code",
      "source": [
        "#Ejercicio 2. Desarrolla un algoritmo que por medio de una función, le pida al usuario una lista de N elementos y como resultado invierta el sentido de la lista. \n",
        "\n",
        "def funcion(lista):\n",
        "    # Pide al usuario el número de elementos en la lista\n",
        "    n = int(input(\"Ingrese el número de elementos en la lista: \"))\n",
        "    # Pide al usuario la lista de números\n",
        "    lista = []\n",
        "    for i in range(n):\n",
        "        num = int(input(\"Ingrese un número: \"))\n",
        "        lista.append(num)\n",
        "    lista_invertida = []# Invierte la lista\n",
        "    for i in range(n):\n",
        "        lista_invertida.append(lista[n-1-i])\n",
        "    print(\"La lista invertida es:\", lista_invertida)# Muestra la lista invertida\n",
        "invertir_lista()"
      ],
      "metadata": {
        "colab": {
          "base_uri": "https://localhost:8080/"
        },
        "id": "7Gm6t3Z4mO8D",
        "outputId": "eae2a0d5-8987-4cbb-8af2-d4bba0b9bad3"
      },
      "execution_count": 14,
      "outputs": [
        {
          "output_type": "stream",
          "name": "stdout",
          "text": [
            "Ingrese el número de elementos en la lista: 5\n",
            "Ingrese un número: 0\n",
            "Ingrese un número: 9\n",
            "Ingrese un número: 8\n",
            "Ingrese un número: 7\n",
            "Ingrese un número: 6\n",
            "La lista invertida es: [6, 7, 8, 9, 0]\n"
          ]
        }
      ]
    },
    {
      "cell_type": "code",
      "source": [
        "#Ejercicio 3. Desarrolla un algoritmo que le pregunte al usuario cuántos números de la serie de Fibonnaci quiere generar y que al final los imprima.\n",
        "\n",
        "# Pedir al usuario la cantidad de números de la serie de Fibonacci a generar\n",
        "num = int(input(\"Ingrese la cantidad de números de la serie de Fibonacci que desea generar: \"))\n",
        "# Inicializamos los dos primeros números de la serie\n",
        "a, b = 0, 1\n",
        "\n",
        "# Imprimimos los primeros n números de la serie de Fibonacci\n",
        "print(\"Los primeros\", num, \"números de la serie de Fibonacci son:\")\n",
        "print(a, end=' ') \n",
        "for i in range(2, num+1): # Empezamos en 2 para imprimir el segundo número (1)\n",
        "    print(b, end=' ')\n",
        "    a, b = b, a+b "
      ],
      "metadata": {
        "colab": {
          "base_uri": "https://localhost:8080/"
        },
        "id": "neuF7ONkJVBp",
        "outputId": "b0911370-62ac-4cec-b285-4adb82b74102"
      },
      "execution_count": 15,
      "outputs": [
        {
          "output_type": "stream",
          "name": "stdout",
          "text": [
            "Ingrese la cantidad de números de la serie de Fibonacci que desea generar: 5\n",
            "Los primeros 5 números de la serie de Fibonacci son:\n",
            "0 1 1 2 3 "
          ]
        }
      ]
    }
  ]
}