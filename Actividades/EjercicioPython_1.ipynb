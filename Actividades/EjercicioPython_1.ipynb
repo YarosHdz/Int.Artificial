{
  "nbformat": 4,
  "nbformat_minor": 0,
  "metadata": {
    "colab": {
      "provenance": []
    },
    "kernelspec": {
      "name": "python3",
      "display_name": "Python 3"
    },
    "language_info": {
      "name": "python"
    }
  },
  "cells": [
    {
      "cell_type": "code",
      "execution_count": 33,
      "metadata": {
        "id": "pfjPel5AmmUv",
        "colab": {
          "base_uri": "https://localhost:8080/"
        },
        "outputId": "e524232d-2d36-4258-abe5-653d9e622f67"
      },
      "outputs": [
        {
          "output_type": "stream",
          "name": "stdout",
          "text": [
            "¿Cuál es tu nombre?: Maximiliano\n",
            "Hola, Maximiliano\n"
          ]
        }
      ],
      "source": [
        "# Actividad 2. Ejercicios con Python    \n",
        "# Nombre: Yaros Miroslava Escobedo Hernández  \n",
        "#Matricula: 1955398 Hora y dia clase: N1 L,M,V\n",
        "\n",
        "#Ejercicio 1.Desarrolla un algoritmo que le pida al usuario por su nombre y que lo salude con su nombre, excepto si se llama “Ana”, “Juan”, y “Pedro”.\n",
        "\n",
        "message = input(\"¿Cuál es tu nombre?: \")\n",
        "saludo= (\"Hola,\")\n",
        "if message == \"Ana\" or message == \"Juan\" or message ==\"Pedro\":\n",
        "  print(\"Nombre incorrecto\")\n",
        "else:  \n",
        "  print(saludo,message)"
      ]
    },
    {
      "cell_type": "code",
      "source": [
        "#Ejercicio 2. Desarrolla un algoritmo que por medio de una función, le pida al usuario una lista de N elementos y como resultado invierta el sentido de la lista. \n",
        "\n",
        "def my_function(lista):\n",
        "  print(list(reversed(Lista)))\n",
        "Lista= [\"uva\", \"sandia\", \"mango\", \"pera\", \"manzana\"]\n",
        "my_function(Lista)"
      ],
      "metadata": {
        "colab": {
          "base_uri": "https://localhost:8080/"
        },
        "id": "7Gm6t3Z4mO8D",
        "outputId": "6532c0e3-fa45-47f3-daab-dbd2dad86c75"
      },
      "execution_count": 70,
      "outputs": [
        {
          "output_type": "stream",
          "name": "stdout",
          "text": [
            "['manzana', 'pera', 'mango', 'sandia', 'uva']\n"
          ]
        }
      ]
    },
    {
      "cell_type": "code",
      "source": [
        "#Ejercicio 3. Desarrolla un algoritmo que le pregunte al usuario cuántos números de la serie de Fibonnaci quiere generar y que al final los imprima.\n",
        "\n",
        "# Pedir al usuario la cantidad de números de la serie de Fibonacci a generar\n",
        "num = int(input(\"Ingrese la cantidad de números de la serie de Fibonacci que desea generar: \"))\n",
        "# Inicializamos los dos primeros números de la serie\n",
        "a, b = 0, 1\n",
        "\n",
        "# Imprimimos los primeros n números de la serie de Fibonacci\n",
        "print(\"Los primeros\", num, \"números de la serie de Fibonacci son:\")\n",
        "print(a, end=' ') \n",
        "for i in range(2, num+1): # Empezamos en 2 para imprimir el segundo número (1)\n",
        "    print(b, end=' ')\n",
        "    a, b = b, a+b "
      ],
      "metadata": {
        "colab": {
          "base_uri": "https://localhost:8080/"
        },
        "id": "neuF7ONkJVBp",
        "outputId": "43cf86f8-decc-47b8-e874-d7d23ea7a69a"
      },
      "execution_count": 37,
      "outputs": [
        {
          "output_type": "stream",
          "name": "stdout",
          "text": [
            "Ingrese la cantidad de números de la serie de Fibonacci que desea generar: 3\n",
            "Los primeros 3 números de la serie de Fibonacci son:\n",
            "0 1 1 "
          ]
        }
      ]
    }
  ]
}